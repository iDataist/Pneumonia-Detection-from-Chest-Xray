{
 "cells": [
  {
   "cell_type": "markdown",
   "metadata": {},
   "source": [
    "# CT Reconstruction"
   ]
  },
  {
   "cell_type": "markdown",
   "metadata": {},
   "source": [
    "In this exercise we will play with some of the mechanics of how CT scanner generates images. So far in the videos we have talked about the \"Tomography\" part. Now let's take a closer look at the computation. In this notebook we have some sample code that will load a real CT image and will go through the steps similar to the ones a scanner is going through to do the computation. \n",
    "\n",
    "You will see snippets of code in this notebook and some snippets will have comments that start with the word _TASK_. These are yours to fill - read task description and write code that completes the snippet."
   ]
  },
  {
   "cell_type": "markdown",
   "metadata": {},
   "source": [
    "## Sinograms"
   ]
  },
  {
   "cell_type": "markdown",
   "metadata": {},
   "source": [
    "Each time a detector is taking an image, it is computing the amount of photons passing through the body. Since we don't have access to a real scanner, let's simulate this by passing a bunch of rays through a phantom image.\n",
    "\n",
    "> _Phantoms_ are commonly used in medical imaging. The word may refer to physically-accurate phantoms which are used by medical physicists to calibrate scanners and other devices, and images of phantoms, which could be synthetic 2D or 3D images used to calibrate and test medical software. Take a look at this adorable fetus phantom:  \n",
    "> <img src=\"Exercise. CT backprojection.img/baby_phantom.jpg\" width=\"300\" align=\"left\">\n",
    "\n"
   ]
  },
  {
   "cell_type": "markdown",
   "metadata": {},
   "source": [
    "### Loading image and computing a single projection"
   ]
  },
  {
   "cell_type": "code",
   "execution_count": null,
   "metadata": {
    "scrolled": true
   },
   "outputs": [],
   "source": [
    "# Our human body will be represented by a jpeg image, so we will use PIL library to load and manipulate it\n",
    "\n",
    "from PIL import Image\n",
    "import matplotlib.pyplot as plt\n",
    "import numpy as np\n",
    "import scipy.ndimage as nd\n",
    "\n",
    "im = Image.open(\"phantom.bmp\").convert(\"L\")\n",
    "print(im)"
   ]
  },
  {
   "cell_type": "markdown",
   "metadata": {},
   "source": [
    "Let us visualize the image here. As you can see it's a few grayscale geometric figures, quite typical for phantoms"
   ]
  },
  {
   "cell_type": "code",
   "execution_count": null,
   "metadata": {
    "scrolled": true
   },
   "outputs": [],
   "source": [
    "plt.imshow(im, cmap=\"gray\")"
   ]
  },
  {
   "cell_type": "markdown",
   "metadata": {},
   "source": [
    "Let us compute a projection now. For the sake of simlicity we are assuming that our xrays are following from left to right, all rays are parallel, passing through the entire image. Note that we are just summing all values of pixels that rays meet along the path. In real world the ray would be attenuated by the tissues, and the intensity (or the amount of photons) is decreased as the ray passess through matter, this the detector is effectively subtracting the measured value from a known maximum value. Again, for the sake of simplicity we will do the inverse here - just add everything up."
   ]
  },
  {
   "cell_type": "code",
   "execution_count": null,
   "metadata": {},
   "outputs": [],
   "source": [
    "projection = []\n",
    "m = np.array(im)\n",
    "for x in range(0, im.width):\n",
    "    projection.append(np.sum(m[x]))\n",
    "        "
   ]
  },
  {
   "cell_type": "markdown",
   "metadata": {},
   "source": [
    "And let's visualize it by plotting the accumulated intensities encountered along each ray. Effectively, this is a 1-dimensional \"x-ray\" of our thin slice."
   ]
  },
  {
   "cell_type": "code",
   "execution_count": null,
   "metadata": {},
   "outputs": [],
   "source": [
    "plt.plot(projection)"
   ]
  },
  {
   "cell_type": "markdown",
   "metadata": {},
   "source": [
    "### Rotate and project again\n",
    "\n",
    "Now let's simulate rotation of our xray tube/detector gantry and compute another projection"
   ]
  },
  {
   "cell_type": "code",
   "execution_count": null,
   "metadata": {},
   "outputs": [],
   "source": [
    "im_r = im.rotate(60)\n",
    "plt.imshow(im_r, cmap=\"gray\")"
   ]
  },
  {
   "cell_type": "code",
   "execution_count": null,
   "metadata": {},
   "outputs": [],
   "source": [
    "projection = []\n",
    "m = np.array(im_r)\n",
    "for x in range(0, im_r.width):\n",
    "    projection.append(np.sum(m[x]))\n",
    "plt.plot(projection)"
   ]
  },
  {
   "cell_type": "code",
   "execution_count": null,
   "metadata": {},
   "outputs": [],
   "source": [
    "# TASK: Can you see the \"tooth\" pattern on the rectangle projection on the right? Where is it coming from, what do you think? \n",
    "# NOTE: You don't need to write code, just type your answer here\n",
    "\n",
    "## <YOUR ANSWER>"
   ]
  },
  {
   "cell_type": "markdown",
   "metadata": {},
   "source": [
    "### Computing the Sinogram\n",
    "\n",
    "Now, let's assume that our scanner is doing a full 180° rotation, sampling a projection every 3 degrees. What you will end up is a collection of projections (1D \"X-ray\" images) from every angle. Let's store projections in a list of tuples so that we keep track of what angle was used to compute a projection."
   ]
  },
  {
   "cell_type": "code",
   "execution_count": null,
   "metadata": {},
   "outputs": [],
   "source": [
    "projections = []\n",
    "for angle in range(0, 180, 3):\n",
    "    p = []\n",
    "    im_r = im.rotate(angle)\n",
    "    for x in range(0, im.width):\n",
    "        p.append(np.sum(np.array(im_r)[x]))\n",
    "    projections.append((angle, p))"
   ]
  },
  {
   "cell_type": "code",
   "execution_count": null,
   "metadata": {},
   "outputs": [],
   "source": [
    "# TASK: can you visualize projections from several interesting angles (like all angles divisible by 15)?\n",
    "\n",
    "## <YOUR CODE>"
   ]
  },
  {
   "cell_type": "markdown",
   "metadata": {},
   "source": [
    "At this point our `projections` variable contains a collection of all projections. Effectively, this is what we get once our measurements are done. Let's plot all projections stacked together as a single image:"
   ]
  },
  {
   "cell_type": "code",
   "execution_count": null,
   "metadata": {},
   "outputs": [],
   "source": [
    "sinogram = np.stack([p[1] for p in projections])\n",
    "plt.imshow(sinogram, cmap=\"gray\", aspect = 2)"
   ]
  },
  {
   "cell_type": "markdown",
   "metadata": {},
   "source": [
    "Pretty, isn't it? This image is commonly called _a sinogram_ because it appears to be an overlapping of sinusoids (and there is some neat signal processing math explaining why that is the case), and sometimes people talk of sinogram as the raw data that comes into a CT scanner after the analog signal has been sampled.\n",
    "\n",
    "But how do we get an image out of this?\n",
    "\n",
    "Remember, that \"C\" in \"CT\" stands for _Computed_ and that's where computation comes in. \n",
    "\n",
    "The basic computation is quite simple. We take each projection and \"smear\" all the aggregated intensity values that have been captured by it across a reconstructed image. Let's do this for one of those projections:"
   ]
  },
  {
   "cell_type": "code",
   "execution_count": null,
   "metadata": {
    "scrolled": true
   },
   "outputs": [],
   "source": [
    "bp = np.zeros((im.width, im.height))\n",
    "\n",
    "for y in range(sinogram.shape[1]):\n",
    "    bp[:, y] = projections[0][1]"
   ]
  },
  {
   "cell_type": "code",
   "execution_count": null,
   "metadata": {},
   "outputs": [],
   "source": [
    "plt.imshow(bp, cmap=\"gray\")"
   ]
  },
  {
   "cell_type": "markdown",
   "metadata": {},
   "source": [
    "From here, we do this for all other projections, and then stack them all together, remembering the angle from which the projection was taken!"
   ]
  },
  {
   "cell_type": "code",
   "execution_count": null,
   "metadata": {},
   "outputs": [],
   "source": [
    "bp = np.zeros((im.width, im.height))\n",
    "\n",
    "for p in projections:\n",
    "    \n",
    "    # Smear the projection\n",
    "    img = np.zeros(bp.shape)\n",
    "    for y in range(img.shape[1]):\n",
    "        img[:, y] = p[1]\n",
    "        \n",
    "    # Rotate the projection back\n",
    "    img = nd.rotate(img, -p[0], reshape = False)\n",
    "    \n",
    "    bp += img"
   ]
  },
  {
   "cell_type": "code",
   "execution_count": null,
   "metadata": {},
   "outputs": [],
   "source": [
    "plt.imshow(bp, cmap =\"gray\")"
   ]
  },
  {
   "cell_type": "markdown",
   "metadata": {},
   "source": [
    "Can you see our original image here? It is a bit blurry, but this is exactly what happens with the actual CT images reconstructed through backprojection. Next step, to get a nice and crisp image out of it would be running image through a sharpening filter and obtaining what radiologists usually see at their workstation - a _filtered backprojection_.\n",
    "\n",
    "There are many ways to construct that filter, and sometimes you will see in the CT imaging datasets (to which we will get later in the course) various metdata items referring to convolutions - these parameters have to do with varoius scanner settings available to the operator, which control the filters applied to unfiltered backprojections."
   ]
  },
  {
   "cell_type": "code",
   "execution_count": null,
   "metadata": {},
   "outputs": [],
   "source": [
    "# TASK: There is a slice of a brain CT in the same directory as our phantom.bmp, named sample_brain.png. \n",
    "# Similar to what was done above, simulate a set of parallel-beam projections at every 1 degree, plot a sinogram, \n",
    "# and plot an unfiltered backprojection"
   ]
  },
  {
   "cell_type": "code",
   "execution_count": null,
   "metadata": {},
   "outputs": [],
   "source": [
    "## <YOUR CODE>"
   ]
  },
  {
   "cell_type": "markdown",
   "metadata": {},
   "source": [
    "## Conclusion\n",
    "\n",
    "We have gone through the basic process of obtaining a sinogram from detector signal, and reconstructing an image using a process called _backprojection_. You have seen that the image that is obtained after this process is not yet quite crisp, and additional filtering pass is required. \n",
    "\n",
    "Note that there are a few differences between the simulated process here and how actual CT scans are obtained. We will cover those in a video that follows.\n",
    "\n",
    "If you want to dig deeper into sinograms and backprojections, here's a cool simulator of CT scanner operation: http://xrayphysics.com/ctsim.html"
   ]
  }
 ],
 "metadata": {
  "kernelspec": {
   "display_name": "Python 3",
   "language": "python",
   "name": "python3"
  },
  "language_info": {
   "codemirror_mode": {
    "name": "ipython",
    "version": 3
   },
   "file_extension": ".py",
   "mimetype": "text/x-python",
   "name": "python",
   "nbconvert_exporter": "python",
   "pygments_lexer": "ipython3",
   "version": "3.7.6"
  }
 },
 "nbformat": 4,
 "nbformat_minor": 2
}
