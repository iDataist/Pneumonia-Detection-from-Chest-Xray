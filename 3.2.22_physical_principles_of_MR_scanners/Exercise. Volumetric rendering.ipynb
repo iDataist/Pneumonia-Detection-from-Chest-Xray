{
 "cells": [
  {
   "cell_type": "markdown",
   "metadata": {},
   "source": [
    "# Volumetric rendering"
   ]
  },
  {
   "cell_type": "markdown",
   "metadata": {},
   "source": [
    "In this exercise you will use some basic methods of visualizing medical volumes. A CT volume will be loaded for you into numpy array - do not worry too much about file format, what the pixel values are, and the libraries used to load the image - we will get to it in the lessons that follow."
   ]
  },
  {
   "cell_type": "code",
   "execution_count": null,
   "metadata": {},
   "outputs": [],
   "source": [
    "import numpy as np\n",
    "import nibabel as nib\n",
    "import matplotlib.pyplot as plt\n",
    "import scipy.ndimage as nd"
   ]
  },
  {
   "cell_type": "code",
   "execution_count": null,
   "metadata": {},
   "outputs": [],
   "source": [
    "img = nib.load(\"data/volume.nii.gz\")"
   ]
  },
  {
   "cell_type": "code",
   "execution_count": null,
   "metadata": {},
   "outputs": [],
   "source": [
    "img_np = img.get_fdata()\n",
    "img_np.shape"
   ]
  },
  {
   "cell_type": "markdown",
   "metadata": {},
   "source": [
    "At this point img_np is a numpy 3D array that contains our medical volume, its size is 360 x 360 x 330. \n",
    "\n",
    "The first dimension is the X axis, and if we slice the array across it, we will get slices in sagittal plane. The second dimension is the Y axis, and slicing across it will get us the coronal plane. Third dimension is the Z axis and if we slice across it we will get the axial plane. This is a common way of assigning axes to a medical image. Again, in later lessons we will talk in more detail about patient coordinate systems and axes.\n",
    "\n",
    "Let's visualize a sagittal slice number 100. Remember the _Multi-planar reconstruction_ task we've talked about in the lectures? This is exactly what we are going to do here - for our CT volume, the axial plane is the primary one, and we are reconsructing a cut across a plane orthogonal to the primary one.\n",
    "\n",
    "Note that we specify the grayscale colormap for matplotlib as this is the method of choice for visualizing medical images."
   ]
  },
  {
   "cell_type": "code",
   "execution_count": null,
   "metadata": {},
   "outputs": [],
   "source": [
    "plt.imshow(img_np[100,:,:], cmap=\"gray\")"
   ]
  },
  {
   "cell_type": "markdown",
   "metadata": {},
   "source": [
    "Not very clear, eh? Your task in this exercise would be to add up all the slices by going down the X axis and visualize the output - it should become clearer what you are dealing with. This is one method of volume rendering, called orthographic projection. "
   ]
  },
  {
   "cell_type": "markdown",
   "metadata": {},
   "source": [
    "## Orthographic projection"
   ]
  },
  {
   "cell_type": "code",
   "execution_count": null,
   "metadata": {},
   "outputs": [],
   "source": [
    "vr = np.zeros((img_np.shape[1], img_np.shape[2]))\n",
    "\n",
    "# TASK: write a loop that will sum up the intensities on all the slices, store the result \n",
    "# in the variable vr and visualize it\n",
    "\n"
   ]
  },
  {
   "cell_type": "code",
   "execution_count": null,
   "metadata": {
    "scrolled": true
   },
   "outputs": [],
   "source": [
    "## <YOUR CODE>"
   ]
  },
  {
   "cell_type": "markdown",
   "metadata": {},
   "source": [
    "---"
   ]
  },
  {
   "cell_type": "markdown",
   "metadata": {},
   "source": [
    "Can you guess what you are looking at? Does it look like an X-ray image to you? Can you guess why?\n",
    "\n",
    "This method of volume rendering is rather basic because while it does present all the information from a volume in a single image, it does not really make use of all the colors available to the display, it does not make distinction between tissue types (although the nature of HUs accounts for that somewhat), it does not apply any external lighting or reflections as many 3D rendering engines do. In some cases it would also help to account for perspective to make a more natural-looking image (while sacrificing the preservation of relative distances).\n",
    "\n",
    "All these things would be improvements, and they would all fall into the category of _transfer function_ design where you would come up with a way to compute the color of the on-screen pixel as you march along the ray cast from your virtual camera into the 3D volume space."
   ]
  },
  {
   "cell_type": "markdown",
   "metadata": {},
   "source": [
    "## Maximum Intensity Projection\n",
    "\n",
    "Another popular method of rendering 3D volumes is called \"Maximum Intensity Projection\". This method makes sure that maximum values (in case of CT corresponding to the densest structures) are propagated and prominently visualized. A MIP projection can help a physician visualize foreign materials, bones or structures filled with a contrast medium.\n",
    "\n",
    "You will create a MIP projection in this task."
   ]
  },
  {
   "cell_type": "code",
   "execution_count": null,
   "metadata": {},
   "outputs": [],
   "source": [
    "# For a change, let's stack slices along the Y axis and thus visualize the coronal plane\n",
    "mip = np.zeros((img_np.shape[0], img_np.shape[2]))\n",
    "\n",
    "# TASK: write same loop you wrote above (but going through the Y-axis), but now rather than adding all values, use \n",
    "# np.maximum function to save the maximum value of each pixel across our entire slice stack"
   ]
  },
  {
   "cell_type": "code",
   "execution_count": null,
   "metadata": {},
   "outputs": [],
   "source": [
    "## <YOUR CODE>"
   ]
  },
  {
   "cell_type": "markdown",
   "metadata": {},
   "source": [
    "---"
   ]
  },
  {
   "cell_type": "markdown",
   "metadata": {},
   "source": [
    "Looks impressive, doesn't it? You can clearly see now that this is a scan of the head, and MIP projection makes the implants stand out. You can clearly see a molar implant there, along with some other dental hardware. We will examine this image closer in the lessons that follow"
   ]
  }
 ],
 "metadata": {
  "kernelspec": {
   "display_name": "Python 3",
   "language": "python",
   "name": "python3"
  },
  "language_info": {
   "codemirror_mode": {
    "name": "ipython",
    "version": 3
   },
   "file_extension": ".py",
   "mimetype": "text/x-python",
   "name": "python",
   "nbconvert_exporter": "python",
   "pygments_lexer": "ipython3",
   "version": "3.7.6"
  }
 },
 "nbformat": 4,
 "nbformat_minor": 2
}
